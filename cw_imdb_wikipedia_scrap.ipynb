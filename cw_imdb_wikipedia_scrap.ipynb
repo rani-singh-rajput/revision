{
 "cells": [
  {
   "cell_type": "code",
   "execution_count": 1,
   "id": "55051892-025c-4dd7-9823-4bd2ecf81712",
   "metadata": {},
   "outputs": [],
   "source": [
    "import requests\n",
    "from bs4 import BeautifulSoup"
   ]
  },
  {
   "cell_type": "code",
   "execution_count": 3,
   "id": "00a6ead9-d881-4e7e-9ace-6af55b0ce345",
   "metadata": {},
   "outputs": [
    {
     "name": "stdout",
     "output_type": "stream",
     "text": [
      "<Response [200]>\n"
     ]
    }
   ],
   "source": [
    "url = requests.get('https://www.imdb.com/chart/top/',headers = {\"User-Agent\": \"Mozilla/5.0\"})\n",
    "print(url)"
   ]
  },
  {
   "cell_type": "code",
   "execution_count": 5,
   "id": "cb5df5fd-6adc-4313-96a4-4399d84ae28e",
   "metadata": {},
   "outputs": [],
   "source": [
    "soup = BeautifulSoup(url.text,\"html.parser\")"
   ]
  },
  {
   "cell_type": "code",
   "execution_count": 7,
   "id": "949ed551-25a7-4b15-bc75-ab31916e9309",
   "metadata": {},
   "outputs": [],
   "source": [
    "data = soup.find('script',id='__NEXT_DATA__')"
   ]
  },
  {
   "cell_type": "code",
   "execution_count": 9,
   "id": "9eb17dfb-6ad6-4ecc-99bc-3f121b9edf89",
   "metadata": {},
   "outputs": [
    {
     "name": "stdout",
     "output_type": "stream",
     "text": [
      "<class 'str'>\n"
     ]
    }
   ],
   "source": [
    "data = str(data.text)\n",
    "data = data.replace('false','False')\n",
    "data = data.replace('true','True')\n",
    "data = data.replace('null','None')\n",
    "print(type(data))\n",
    "data = eval(data)"
   ]
  },
  {
   "cell_type": "code",
   "execution_count": 11,
   "id": "6f9fe17e-912f-43f2-b3f8-1a141a5f0af1",
   "metadata": {},
   "outputs": [
    {
     "data": {
      "text/plain": [
       "250"
      ]
     },
     "execution_count": 11,
     "metadata": {},
     "output_type": "execute_result"
    }
   ],
   "source": [
    "data_fetched = data['props']['pageProps']['pageData']['chartTitles']['edges']\n",
    "len(data_fetched)"
   ]
  },
  {
   "cell_type": "code",
   "execution_count": 13,
   "id": "6da80497-dc43-45a2-a2e2-4d8bb9085ce0",
   "metadata": {},
   "outputs": [
    {
     "data": {
      "text/plain": [
       "'The Shawshank Redemption'"
      ]
     },
     "execution_count": 13,
     "metadata": {},
     "output_type": "execute_result"
    }
   ],
   "source": [
    "movie_name = data_fetched[0]['node']['titleText']['text']\n",
    "movie_name"
   ]
  },
  {
   "cell_type": "code",
   "execution_count": 15,
   "id": "9335ba25-c7de-429a-85cc-36f7389f8712",
   "metadata": {},
   "outputs": [
    {
     "data": {
      "text/plain": [
       "1994"
      ]
     },
     "execution_count": 15,
     "metadata": {},
     "output_type": "execute_result"
    }
   ],
   "source": [
    "year = data_fetched[0]['node']['releaseYear']['year']\n",
    "year"
   ]
  },
  {
   "cell_type": "code",
   "execution_count": 17,
   "id": "a1ee061e-0074-4ea9-8e2f-f3d1eaeff11e",
   "metadata": {},
   "outputs": [
    {
     "data": {
      "text/plain": [
       "9.3"
      ]
     },
     "execution_count": 17,
     "metadata": {},
     "output_type": "execute_result"
    }
   ],
   "source": [
    "ratings = data_fetched[0]['node']['ratingsSummary']['aggregateRating']\n",
    "ratings"
   ]
  },
  {
   "cell_type": "code",
   "execution_count": 19,
   "id": "08a80176-b35e-4b9a-91db-72c64b226a9c",
   "metadata": {},
   "outputs": [
    {
     "name": "stdout",
     "output_type": "stream",
     "text": [
      "****************************************************************************************************\n",
      "Movie Name is ['The Shawshank Redemption', 'The Godfather', 'The Dark Knight', 'The Godfather: Part II', '12 Angry Men', 'The Lord of the Rings: The Return of the King', \"Schindler's List\", 'Pulp Fiction', 'The Lord of the Rings: The Fellowship of the Ring', 'Il Buono, Il Brutto, Il Cattivo', 'Forrest Gump', 'The Lord of the Rings: The Two Towers', 'Fight Club', 'Inception', 'Star Wars: Episode V - The Empire Strikes Back', 'The Matrix', 'GoodFellas', \"One Flew Over the Cuckoo's Nest\", 'Interstellar', 'Se7en', \"It's a Wonderful Life\", 'Shichinin No Samurai', 'The Silence of the Lambs', 'Saving Private Ryan', 'City of God', 'Life Is Beautiful', 'The Green Mile', 'Terminator 2: Judgment Day', 'Star Wars: Episode IV - A New Hope', 'Back to the Future', 'Spirited Away', 'The Pianist', 'Parasite', 'Psycho', 'Gladiator', 'The Lion King', 'Spider-man: Across the Spider-verse', 'The Departed', 'Whiplash', 'American History X', 'Grave of the Fireflies', 'Léon', 'The Prestige', 'Seppuku', 'The Usual Suspects', 'Casablanca', 'Dune: Part Two', 'Intouchables', 'Cinema Paradiso', 'Modern Times', 'Alien', 'Rear Window', \"C'era Una Volta Il West\", 'Django Unchained', 'City Lights', 'Apocalypse Now', 'Memento', 'WALL·E', 'Raiders of the Lost Ark', '12th Fail', 'Das Leben der Anderen', 'Sunset Blvd.', 'Avengers: Infinity War', 'Paths of Glory', 'Spider-Man: Into the Spider-Verse', 'Witness for the Prosecution', 'The Shining', 'The Great Dictator', 'Alien 2', 'Inglourious Basterds', 'The Dark Knight Rises', 'Coco', 'Amadeus', 'Toy Story', 'Dr. Strangelove or: How I Learned to Stop Worrying and Love the Bomb', 'Oldeuboi', 'American Beauty', 'Avengers: Endgame', 'Das Boot', 'Braveheart', 'Good Will Hunting', 'Mononoke-hime', 'Kimi No Na Wa.', 'Joker', 'Tengoku to Jigoku', '3 Idiots', 'Once Upon a Time in America', \"Singin' in the Rain\", 'Capharnaüm', 'Idi I Smotri', 'Requiem for a Dream', 'Toy Story 3', 'Star Wars: Episode VI - Return of the Jedi', 'Jagten', 'Eternal Sunshine of the Spotless Mind', '2001: A Space Odyssey', 'Ikiru', 'Reservoir Dogs', 'Lawrence of Arabia', 'The Apartment', 'Incendies', 'Scarface', 'North by Northwest', 'Double Indemnity', 'Citizen Kane', 'Oppenheimer', 'M - Eine Stadt sucht einen Mörder', 'Vertigo', 'Heat', 'Full Metal Jacket', \"Le fabuleux destin d'Amélie Poulain\", 'Up', 'A Clockwork Orange', 'To Kill a Mockingbird', 'Jodaeiye Nader Az Simin', 'The Sting', 'Die Hard', 'Indiana Jones and the Last Crusade', 'Taare Zameen Par', 'Metropolis', 'Snatch', '1917', 'L.A. Confidential', 'Ladri Di Biciclette', 'Hamilton', 'Der Untergang', 'Taxi Driver', 'Dangal', 'Batman Begins', 'The Wolf of Wall Street', 'Per qualche dollaro in più', 'Green Book', 'Some Like It Hot', 'The Truman Show', 'Judgment at Nuremberg', 'The Kid', 'The Father', 'All About Eve', 'Shutter Island', 'There Will Be Blood', 'Jurassic Park', 'Casino', 'Top Gun: Maverick', 'Ran', 'The Sixth Sense', 'El Laberinto Del Fauno', 'Unforgiven', 'No Country for Old Men', 'The Thing', 'A Beautiful Mind', 'Kill Bill: Vol. 1', 'The Treasure of the Sierra Madre', 'Yojimbo', 'The Great Escape', 'Finding Nemo', 'Monty Python and the Holy Grail', 'Prisoners', \"Howl's Moving Castle\", 'The Elephant Man', 'Rashōmon', 'Dial M for Murder', 'Chinatown', 'Gone with the Wind', 'El Secreto De Sus Ojos', 'Lock, Stock and Two Smoking Barrels', 'Inside Out', 'V for Vendetta', 'Three Billboards Outside Ebbing, Missouri', 'Raging Bull', 'Trainspotting', 'The Bridge on the River Kwai', 'Klaus', 'Catch Me If You Can', 'Fargo', 'Warrior', 'Spider-Man: No Way Home', 'Gran Torino', 'Harry Potter and the Deathly Hallows: Part 2', 'Million Dollar Baby', 'My Neighbour Totoro', 'Mad Max: Fury Road', 'Bacheha-Ye Aseman', 'Ben-Hur', '12 Years a Slave', 'Barry Lyndon', 'Before Sunrise', 'Blade Runner', 'The Grand Budapest Hotel', 'Hacksaw Ridge', 'Gone Girl', 'Dead Poets Society', 'Maharaja', 'Salinui Chueok', 'In the Name of the Father', 'The Gold Rush', 'Monsters, Inc.', 'Relatos Salvajes', 'The Deer Hunter', 'Ratatouille', 'The General', 'Sherlock Jr.', 'Jaws', 'How to Train Your Dragon', 'On the Waterfront', 'Mary and Max', 'Le Salaire De La Peur', 'Ford v. Ferrari', 'Smultronstället', 'Mr. Smith Goes to Washington', 'The Third Man', 'Logan', 'Rocky', 'Tokyo Story', 'The Big Lebowski', 'Det Sjunde Inseglet', 'Room', 'Spotlight', 'The Terminator', 'Hotel Rwanda', 'Platoon', 'Pirates of the Caribbean: The Curse of the Black Pearl', 'La haine', 'Before Sunset', 'Jai Bhim', \"La passion de Jeanne d'Arc\", 'The Best Years of Our Lives', 'The Exorcist', 'Rush', 'The Incredibles', 'The Wizard of Oz', 'Network', 'Stand by Me', \"Hachi: A Dog's Tale\", 'The Sound of Music', 'My Father and My Son', 'Ah-ga-ssi', 'To Be or Not to Be', 'Into the Wild', 'La battaglia di Algeri', 'The Iron Giant', 'Groundhog Day', 'The Grapes of Wrath', 'Amores perros', 'Rebecca', 'The Help', 'Cool Hand Luke', 'It Happened One Night', 'Gangs of Wasseypur', 'Drishyam', 'Andhadhun']\n",
      "****************************************************************************************************\n",
      "Year is [1994, 1972, 2008, 1974, 1957, 2003, 1993, 1994, 2001, 1966, 1994, 2002, 1999, 2010, 1980, 1999, 1990, 1975, 2014, 1995, 1946, 1954, 1991, 1998, 2002, 1997, 1999, 1991, 1977, 1985, 2001, 2002, 2019, 1960, 2000, 1994, 2023, 2006, 2014, 1998, 1988, 1994, 2006, 1962, 1995, 1942, 2024, 2011, 1988, 1936, 1979, 1954, 1968, 2012, 1931, 1979, 2000, 2008, 1981, 2023, 2006, 1950, 2018, 1957, 2018, 1957, 1980, 1940, 1986, 2009, 2012, 2017, 1984, 1995, 1964, 2003, 1999, 2019, 1981, 1995, 1997, 1997, 2016, 2019, 1963, 2009, 1984, 1952, 2018, 1985, 2000, 2010, 1983, 2012, 2004, 1968, 1952, 1992, 1962, 1960, 2010, 1983, 1959, 1944, 1941, 2023, 1931, 1958, 1995, 1987, 2001, 2009, 1971, 1962, 2011, 1973, 1988, 1989, 2007, 1927, 2000, 2019, 1997, 1948, 2020, 2004, 1976, 2016, 2005, 2013, 1965, 2018, 1959, 1998, 1961, 1921, 2020, 1950, 2010, 2007, 1993, 1995, 2022, 1985, 1999, 2006, 1992, 2007, 1982, 2001, 2003, 1948, 1961, 1963, 2003, 1975, 2013, 2004, 1980, 1950, 1954, 1974, 1939, 2009, 1998, 2015, 2005, 2017, 1980, 1996, 1957, 2019, 2002, 1996, 2011, 2021, 2008, 2011, 2004, 1988, 2015, 1997, 1959, 2013, 1975, 1995, 1982, 2014, 2016, 2014, 1989, 2024, 2003, 1993, 1925, 2001, 2014, 1978, 2007, 1926, 1924, 1975, 2010, 1954, 2009, 1953, 2019, 1957, 1939, 1949, 2017, 1976, 1953, 1998, 1957, 2015, 2015, 1984, 2004, 1986, 2003, 1995, 2004, 2021, 1928, 1946, 1973, 2013, 2004, 1939, 1976, 1986, 2009, 1965, 2005, 2016, 1942, 2007, 1966, 1999, 1993, 1940, 2000, 1940, 2011, 1967, 1934, 2012, 2015, 2018]\n",
      "****************************************************************************************************\n",
      "Rating is [9.3, 9.2, 9, 9, 9, 9, 9, 8.9, 8.9, 8.8, 8.8, 8.8, 8.8, 8.8, 8.7, 8.7, 8.7, 8.7, 8.7, 8.6, 8.6, 8.6, 8.6, 8.6, 8.6, 8.6, 8.6, 8.6, 8.6, 8.5, 8.6, 8.5, 8.5, 8.5, 8.5, 8.5, 8.6, 8.5, 8.5, 8.5, 8.5, 8.5, 8.5, 8.6, 8.5, 8.5, 8.5, 8.5, 8.5, 8.5, 8.5, 8.5, 8.5, 8.5, 8.5, 8.4, 8.4, 8.4, 8.4, 8.8, 8.4, 8.4, 8.4, 8.4, 8.4, 8.4, 8.4, 8.4, 8.4, 8.4, 8.4, 8.4, 8.4, 8.3, 8.3, 8.3, 8.3, 8.4, 8.4, 8.3, 8.3, 8.3, 8.4, 8.4, 8.4, 8.4, 8.3, 8.3, 8.4, 8.4, 8.3, 8.3, 8.3, 8.3, 8.3, 8.3, 8.3, 8.3, 8.3, 8.3, 8.3, 8.3, 8.3, 8.3, 8.3, 8.3, 8.3, 8.3, 8.3, 8.2, 8.3, 8.3, 8.2, 8.3, 8.3, 8.3, 8.2, 8.2, 8.3, 8.3, 8.2, 8.2, 8.2, 8.3, 8.3, 8.2, 8.2, 8.3, 8.2, 8.2, 8.2, 8.2, 8.2, 8.2, 8.3, 8.2, 8.2, 8.2, 8.2, 8.2, 8.2, 8.2, 8.2, 8.2, 8.2, 8.2, 8.2, 8.2, 8.2, 8.2, 8.2, 8.2, 8.2, 8.2, 8.2, 8.2, 8.2, 8.2, 8.2, 8.2, 8.2, 8.1, 8.2, 8.2, 8.1, 8.1, 8.1, 8.1, 8.1, 8.1, 8.1, 8.2, 8.1, 8.1, 8.1, 8.2, 8.1, 8.1, 8.1, 8.1, 8.1, 8.2, 8.1, 8.1, 8.1, 8.1, 8.1, 8.1, 8.1, 8.1, 8.1, 8.5, 8.1, 8.1, 8.1, 8.1, 8.1, 8.1, 8.1, 8.1, 8.2, 8.1, 8.1, 8.1, 8.1, 8.1, 8.1, 8.1, 8.1, 8.1, 8.1, 8.1, 8.1, 8.1, 8.1, 8.1, 8.1, 8.1, 8.1, 8.1, 8.1, 8.1, 8.1, 8.7, 8.1, 8.1, 8.1, 8.1, 8, 8.1, 8.1, 8.1, 8.1, 8.1, 8.2, 8.1, 8.1, 8.1, 8.1, 8.1, 8, 8.1, 8, 8.1, 8.1, 8.1, 8.1, 8.2, 8.2, 8.2]\n",
      "****************************************************************************************************\n"
     ]
    }
   ],
   "source": [
    "l1=[]\n",
    "l2=[]\n",
    "l3=[]\n",
    "for i in range(len(data_fetched)):\n",
    "    movie_name = data_fetched[i]['node']['titleText']['text']\n",
    "    year = data_fetched[i]['node']['releaseYear']['year']\n",
    "    rating = data_fetched[i]['node']['ratingsSummary']['aggregateRating']\n",
    "    l1.append(movie_name)\n",
    "    l2.append(year)\n",
    "    l3.append(rating)\n",
    "print(\"*\"*100)\n",
    "print(\"Movie Name is\",l1)\n",
    "print(\"*\"*100)\n",
    "print(\"Year is\",l2)\n",
    "print(\"*\"*100)\n",
    "print(\"Rating is\",l3)\n",
    "print(\"*\"*100)"
   ]
  },
  {
   "cell_type": "code",
   "execution_count": 21,
   "id": "06161721-b433-4e02-a3d8-7475cbc5446a",
   "metadata": {},
   "outputs": [
    {
     "data": {
      "text/html": [
       "<div>\n",
       "<style scoped>\n",
       "    .dataframe tbody tr th:only-of-type {\n",
       "        vertical-align: middle;\n",
       "    }\n",
       "\n",
       "    .dataframe tbody tr th {\n",
       "        vertical-align: top;\n",
       "    }\n",
       "\n",
       "    .dataframe thead th {\n",
       "        text-align: right;\n",
       "    }\n",
       "</style>\n",
       "<table border=\"1\" class=\"dataframe\">\n",
       "  <thead>\n",
       "    <tr style=\"text-align: right;\">\n",
       "      <th></th>\n",
       "      <th>movie name</th>\n",
       "      <th>year</th>\n",
       "      <th>ratings</th>\n",
       "    </tr>\n",
       "  </thead>\n",
       "  <tbody>\n",
       "    <tr>\n",
       "      <th>0</th>\n",
       "      <td>The Shawshank Redemption</td>\n",
       "      <td>1994</td>\n",
       "      <td>9.3</td>\n",
       "    </tr>\n",
       "    <tr>\n",
       "      <th>1</th>\n",
       "      <td>The Godfather</td>\n",
       "      <td>1972</td>\n",
       "      <td>9.2</td>\n",
       "    </tr>\n",
       "    <tr>\n",
       "      <th>2</th>\n",
       "      <td>The Dark Knight</td>\n",
       "      <td>2008</td>\n",
       "      <td>9.0</td>\n",
       "    </tr>\n",
       "    <tr>\n",
       "      <th>3</th>\n",
       "      <td>The Godfather: Part II</td>\n",
       "      <td>1974</td>\n",
       "      <td>9.0</td>\n",
       "    </tr>\n",
       "    <tr>\n",
       "      <th>4</th>\n",
       "      <td>12 Angry Men</td>\n",
       "      <td>1957</td>\n",
       "      <td>9.0</td>\n",
       "    </tr>\n",
       "    <tr>\n",
       "      <th>...</th>\n",
       "      <td>...</td>\n",
       "      <td>...</td>\n",
       "      <td>...</td>\n",
       "    </tr>\n",
       "    <tr>\n",
       "      <th>245</th>\n",
       "      <td>Cool Hand Luke</td>\n",
       "      <td>1967</td>\n",
       "      <td>8.1</td>\n",
       "    </tr>\n",
       "    <tr>\n",
       "      <th>246</th>\n",
       "      <td>It Happened One Night</td>\n",
       "      <td>1934</td>\n",
       "      <td>8.1</td>\n",
       "    </tr>\n",
       "    <tr>\n",
       "      <th>247</th>\n",
       "      <td>Gangs of Wasseypur</td>\n",
       "      <td>2012</td>\n",
       "      <td>8.2</td>\n",
       "    </tr>\n",
       "    <tr>\n",
       "      <th>248</th>\n",
       "      <td>Drishyam</td>\n",
       "      <td>2015</td>\n",
       "      <td>8.2</td>\n",
       "    </tr>\n",
       "    <tr>\n",
       "      <th>249</th>\n",
       "      <td>Andhadhun</td>\n",
       "      <td>2018</td>\n",
       "      <td>8.2</td>\n",
       "    </tr>\n",
       "  </tbody>\n",
       "</table>\n",
       "<p>250 rows × 3 columns</p>\n",
       "</div>"
      ],
      "text/plain": [
       "                   movie name  year  ratings\n",
       "0    The Shawshank Redemption  1994      9.3\n",
       "1               The Godfather  1972      9.2\n",
       "2             The Dark Knight  2008      9.0\n",
       "3      The Godfather: Part II  1974      9.0\n",
       "4                12 Angry Men  1957      9.0\n",
       "..                        ...   ...      ...\n",
       "245            Cool Hand Luke  1967      8.1\n",
       "246     It Happened One Night  1934      8.1\n",
       "247        Gangs of Wasseypur  2012      8.2\n",
       "248                  Drishyam  2015      8.2\n",
       "249                 Andhadhun  2018      8.2\n",
       "\n",
       "[250 rows x 3 columns]"
      ]
     },
     "execution_count": 21,
     "metadata": {},
     "output_type": "execute_result"
    }
   ],
   "source": [
    "import pandas as pd\n",
    "d = {\"movie name\":l1,\"year\":l2,\"ratings\":l3}\n",
    "df = pd.DataFrame(d)\n",
    "df"
   ]
  },
  {
   "cell_type": "code",
   "execution_count": 25,
   "id": "06a7893d-ae2f-4a8e-8508-e273ed3927fa",
   "metadata": {},
   "outputs": [],
   "source": [
    "df.to_csv('top250movies.csv')"
   ]
  }
 ],
 "metadata": {
  "kernelspec": {
   "display_name": "Python 3 (ipykernel)",
   "language": "python",
   "name": "python3"
  },
  "language_info": {
   "codemirror_mode": {
    "name": "ipython",
    "version": 3
   },
   "file_extension": ".py",
   "mimetype": "text/x-python",
   "name": "python",
   "nbconvert_exporter": "python",
   "pygments_lexer": "ipython3",
   "version": "3.12.4"
  }
 },
 "nbformat": 4,
 "nbformat_minor": 5
}
